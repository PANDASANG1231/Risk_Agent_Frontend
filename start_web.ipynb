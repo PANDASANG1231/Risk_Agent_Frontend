{
 "cells": [
  {
   "cell_type": "code",
   "execution_count": null,
   "id": "662aa45d",
   "metadata": {},
   "outputs": [],
   "source": [
    "port = 7595\n",
    "clusterOwnerOrgId = spark.conf.get(\"spark.databricks.clusterUsageTags.clusterOwnerOrgId\")\n",
    "clusterId = spark.conf.get(\"spark.databricks.clusterUsageTags.clusterId\")\n",
    "workspaceUrl = spark.conf.get(\"spark.databricks.workspaceUrl\")\n",
    "serviceUrl = workspaceUrl.replace(\"adb\",\"adb-dp\")\n",
    "displayHTML(f\"Use this <a href=https://{serviceUrl}/driver-proxy/o/{clusterOwnerOrgId}/{clusterId}/{port}/>link</a> to access\")"
   ]
  },
  {
   "cell_type": "code",
   "execution_count": null,
   "id": "29488bc9",
   "metadata": {},
   "outputs": [],
   "source": [
    "%sh\n",
    "pip config set global.trusted-host repo.td.com\n",
    "pip config set global.index-url http://repo.td.com/repository/pypi-all/simple\n",
    "pip install nodejs-wheel\n",
    "npm config set registry http://repo.td.com/repository/npm-all/\n",
    "npm config set registry http://repo.td.com/repository/3rd-party-npm-central/\n",
    "npm install\n",
    "npm run setup\n",
    "npm run start"
   ]
  }
 ],
 "metadata": {
  "kernelspec": {
   "display_name": "base",
   "language": "python",
   "name": "python3"
  },
  "language_info": {
   "codemirror_mode": {
    "name": "ipython",
    "version": 3
   },
   "file_extension": ".py",
   "mimetype": "text/x-python",
   "name": "python",
   "nbconvert_exporter": "python",
   "pygments_lexer": "ipython3",
   "version": "3.12.3"
  }
 },
 "nbformat": 4,
 "nbformat_minor": 5
}
